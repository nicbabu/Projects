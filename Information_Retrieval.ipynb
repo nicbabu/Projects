{
 "cells": [
  {
   "cell_type": "code",
   "execution_count": 2,
   "id": "671afe31-d3b4-4724-a8b7-2748dfa85bdb",
   "metadata": {},
   "outputs": [
    {
     "name": "stderr",
     "output_type": "stream",
     "text": [
      "[nltk_data] Downloading package stopwords to\n",
      "[nltk_data]     C:\\Users\\lenovo\\AppData\\Roaming\\nltk_data...\n",
      "[nltk_data]   Unzipping corpora\\stopwords.zip.\n"
     ]
    },
    {
     "data": {
      "text/plain": [
       "True"
      ]
     },
     "execution_count": 2,
     "metadata": {},
     "output_type": "execute_result"
    }
   ],
   "source": [
    "#importing necessary libraries (Information Retrieval)\n",
    "import math\n",
    "import string\n",
    "from nltk.corpus import stopwords\n",
    "import nltk\n",
    "nltk.download('stopwords')"
   ]
  },
  {
   "cell_type": "code",
   "execution_count": 7,
   "id": "d9bda0b1-f6fd-462d-b0ec-d570a8676925",
   "metadata": {},
   "outputs": [],
   "source": [
    "# taking a sample for document from the novel, here I will take three different sample as a documents\n",
    "documents = {1:\"The narrative is notable for its lengthy and intricate involuntary memory episodes, the most famous being the madeleine episode. It explores the themes of time, space and memory, but also raises questions about the nature of art and literature, and the complex relationships between love, sexuality, and possession\" ,\n",
    "2: \"Set in Dublin, the novel follows a day in the life of Leopold Bloom, an advertising salesman, as he navigates the city. The narrative, heavily influenced by Homer's Odyssey, explores themes of identity, heroism, and the complexities of everyday life. It is renowned for its stream-of-consciousness style and complex structure, making it a challenging but rewarding read\" ,\n",
    "3: \"Set in the summer of 1922, the novel follows the life of a young and mysterious millionaire, his extravagant lifestyle in Long Island, and his obsessive love for a beautiful former debutante. As the story unfolds, the millionaire's dark secrets and the corrupt reality of the American dream during the Jazz Age are revealed. The narrative is a critique of the hedonistic excess and moral decay of the era, ultimately leading to tragic consequences.\"    \n",
    "}"
   ]
  },
  {
   "cell_type": "code",
   "execution_count": 10,
   "id": "e9024fd0-c5b4-45ef-9b06-709398f53d6d",
   "metadata": {},
   "outputs": [],
   "source": [
    "query = \"involuntary follows life young bloom in complex\""
   ]
  },
  {
   "cell_type": "code",
   "execution_count": 12,
   "id": "582d72c3-d92e-422c-8e8a-e68d595458e3",
   "metadata": {},
   "outputs": [],
   "source": [
    "stop_words = set(stopwords.words('english'))"
   ]
  },
  {
   "cell_type": "code",
   "execution_count": 13,
   "id": "6ff37888-b703-4a4d-8463-cd85baa50723",
   "metadata": {},
   "outputs": [],
   "source": [
    "# Calculating the length of the document\n",
    "avg_doc_length = sum(len(doc.split()) for doc in documents. values())/len(documents)"
   ]
  },
  {
   "cell_type": "code",
   "execution_count": 18,
   "id": "b91b0ae5-76fd-4f39-9936-0e42fcab3850",
   "metadata": {},
   "outputs": [],
   "source": [
    "# function for text processing i.e, punctuation, cases etc.\n",
    "def preprocess_text(text):\n",
    "    text = text.lower()\n",
    "    text = text. translate(str.maketrans('','',string.punctuation))\n",
    "    text = ' '.join(word for word in text.split() if word not in stop_words)\n",
    "    return text"
   ]
  },
  {
   "cell_type": "code",
   "execution_count": 19,
   "id": "73ce9c76-8385-4daf-9d59-a8e3549e6263",
   "metadata": {},
   "outputs": [],
   "source": [
    "# Preprocessing the documents and the query\n",
    "preprocessed_docs = {doc_id: preprocess_text(doc) for doc_id, doc in documents.items()}\n",
    "preprocessed_query = preprocess_text(query)\n"
   ]
  },
  {
   "cell_type": "code",
   "execution_count": 42,
   "id": "a8333b7f-d239-4767-8b0e-d735dd530a4d",
   "metadata": {},
   "outputs": [],
   "source": [
    "# Implementing the Term frequency inverse documents frequency(TF-IDF)\n",
    "def tf_idf(doc, query):\n",
    "    term_freq_doc = {term: doc.split().count(term) for term in doc.split()}\n",
    "\n",
    "    idf = {\n",
    "        term: math.log(\n",
    "            len(preprocessed_docs) / \n",
    "            (1 + sum(1 for doc_text in preprocessed_docs.values() if term in doc_text.split()))\n",
    "        )\n",
    "        for term in term_freq_doc.keys()\n",
    "    }\n",
    "\n",
    "    tf_idf_scores = {term: tf * idf[term] for term, tf in term_freq_doc.items()}\n",
    "    return tf_idf_scores\n"
   ]
  },
  {
   "cell_type": "code",
   "execution_count": 44,
   "id": "4c3c47bf-e53d-4567-a6a3-29ba0b1dc41c",
   "metadata": {},
   "outputs": [],
   "source": [
    "# Implementing okapi BM25 \n",
    "def okapi_bm25(doc, query, k1=1.5, b=0.75):\n",
    "    term_frequency_doc = {term: doc.split().count(term) for term in doc.split()}\n",
    "    document_length = len(doc.split())\n",
    "    scores = {}\n",
    "    for term in query.split():\n",
    "        if term in term_frequency_doc:\n",
    "            tf = term_frequency_doc[term]\n",
    "            df = sum(1 for doc_text in preprocessed_docs.values() if term in doc_text.split())\n",
    "            idf = math.log((len(preprocessed_docs) - df + 0.5) / (df + 0.5) + 1)\n",
    "            bm25 = idf * (tf * (k1 + 1)) / (tf + k1 * (1 - b + b * (document_length / avg_doc_length)))\n",
    "            scores[term] = bm25\n",
    "    return scores"
   ]
  },
  {
   "cell_type": "code",
   "execution_count": 45,
   "id": "e6954683-c8ee-4b0f-bf4f-34e762253b8c",
   "metadata": {},
   "outputs": [],
   "source": [
    "# Calculating the scores for all the documents based on the TF_IDF and Okapi bm25 methods\n",
    "tfidf_scores = {}\n",
    "bm25_scores = {}\n",
    "for doc_id, doc_text in preprocessed_docs.items():\n",
    "    tfidf_scores[doc_id]= tf_idf(doc_text, preprocessed_query)\n",
    "    bm25_scores[doc_id] = okapi_bm25(doc_text, preprocessed_query)"
   ]
  },
  {
   "cell_type": "code",
   "execution_count": 47,
   "id": "614a0396-b92c-479b-bcbd-2acaa17434e8",
   "metadata": {},
   "outputs": [
    {
     "name": "stdout",
     "output_type": "stream",
     "text": [
      "Tf-IDF document scores:\n",
      "Document 1, score:8.22708519781967\n",
      "Document 2, score:9.443480522144164\n",
      "Document 3, score:13.903596711333973\n",
      "\n",
      "Okapi BM25 document scores:\n",
      "Document 1, score:1.9445831967359468\n",
      "Document 2, score:3.1884731732670026\n",
      "Document 3, score:2.235563950319066\n"
     ]
    }
   ],
   "source": [
    "# printing the score for the evaluation\n",
    "print (\"Tf-IDF document scores:\")\n",
    "for doc_id, scores in tfidf_scores.items():\n",
    "    print(f\"Document {doc_id}, score:{sum(scores.values())}\")\n",
    "print (\"\\nOkapi BM25 document scores:\")\n",
    "for doc_id, scores in bm25_scores.items():\n",
    "    print(f\"Document {doc_id}, score:{sum(scores.values())}\")"
   ]
  },
  {
   "cell_type": "code",
   "execution_count": null,
   "id": "a360c980-0333-47b7-b4e8-c0c8b94b06d0",
   "metadata": {},
   "outputs": [],
   "source": [
    "# the finding tells that as tf-idf document 3 contain more query words but as per bm25 document 2 has balanced and morr"
   ]
  }
 ],
 "metadata": {
  "kernelspec": {
   "display_name": "Python 3 (ipykernel)",
   "language": "python",
   "name": "python3"
  },
  "language_info": {
   "codemirror_mode": {
    "name": "ipython",
    "version": 3
   },
   "file_extension": ".py",
   "mimetype": "text/x-python",
   "name": "python",
   "nbconvert_exporter": "python",
   "pygments_lexer": "ipython3",
   "version": "3.12.7"
  }
 },
 "nbformat": 4,
 "nbformat_minor": 5
}
